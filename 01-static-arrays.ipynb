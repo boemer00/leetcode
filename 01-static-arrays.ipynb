{
 "cells": [
  {
   "cell_type": "markdown",
   "id": "e1246e72",
   "metadata": {},
   "source": [
    "# Static Array"
   ]
  },
  {
   "cell_type": "markdown",
   "id": "22bd5b3f",
   "metadata": {},
   "source": [
    "## Remove Duplicates From Sorted Array"
   ]
  },
  {
   "cell_type": "markdown",
   "id": "4b826794",
   "metadata": {},
   "source": [
    "Given an integer array nums sorted in non-decreasing order, remove the duplicates in-place such that each unique element appears only once. The relative order of the elements should be kept the same. Then return the number of unique elements in nums.\n",
    "\n",
    "Consider the number of unique elements of nums to be k, to get accepted, you need to do the following things:\n",
    "\n",
    "- Change the array nums such that the first k elements of nums contain the unique elements in the order they were present in nums initially. The remaining elements of nums are not important as well as the size of nums.\n",
    "- Return k.\n"
   ]
  },
  {
   "cell_type": "code",
   "execution_count": 25,
   "id": "f0d13c76",
   "metadata": {},
   "outputs": [],
   "source": [
    "class Solution:\n",
    "    def removeDuplicates(self, nums):\n",
    "        i = 0\n",
    "        while i < len(nums) - 1:\n",
    "            if nums[i] == nums[i+1]:\n",
    "                nums.pop(i+1)\n",
    "            else:\n",
    "                i += 1\n",
    "        return len(nums)"
   ]
  },
  {
   "cell_type": "code",
   "execution_count": 26,
   "id": "ff6c83f7",
   "metadata": {},
   "outputs": [],
   "source": [
    "nums = [1,1,2]"
   ]
  },
  {
   "cell_type": "code",
   "execution_count": 27,
   "id": "8e89bf23",
   "metadata": {},
   "outputs": [],
   "source": [
    "solution = Solution()\n",
    "new_length = solution.removeDuplicates(nums)"
   ]
  },
  {
   "cell_type": "code",
   "execution_count": 28,
   "id": "78e9a791",
   "metadata": {},
   "outputs": [
    {
     "name": "stdout",
     "output_type": "stream",
     "text": [
      "New length: 2\n",
      "Array after removing duplicates: [1, 2]\n"
     ]
    }
   ],
   "source": [
    "print(f\"New length: {new_length}\")\n",
    "print(f\"Array after removing duplicates: {nums[:new_length]}\")"
   ]
  },
  {
   "cell_type": "markdown",
   "id": "5cb9d1c4",
   "metadata": {},
   "source": [
    "## Remove Element"
   ]
  },
  {
   "cell_type": "markdown",
   "id": "5397a164",
   "metadata": {},
   "source": [
    "Given an integer array nums and an integer val, remove all occurrences of val in nums in-place. The order of the elements may be changed. Then return the number of elements in nums which are not equal to val.\n",
    "\n",
    "Consider the number of elements in nums which are not equal to val be k, to get accepted, you need to do the following things:\n",
    "\n",
    "- Change the array nums such that the first k elements of nums contain the elements which are not equal to val. The remaining elements of nums are not important as well as the size of nums.\n",
    "- Return k."
   ]
  },
  {
   "cell_type": "code",
   "execution_count": 42,
   "id": "f4860db3",
   "metadata": {},
   "outputs": [],
   "source": [
    "class Solution:\n",
    "    def removeElement(self, nums, val):\n",
    "        i = 0\n",
    "        while i <= len(nums) - 1:\n",
    "            if nums[i] == val:\n",
    "                nums.pop(i)\n",
    "            else:\n",
    "                i += 1\n",
    "        return len(nums)"
   ]
  },
  {
   "cell_type": "code",
   "execution_count": 46,
   "id": "c68a2c84",
   "metadata": {},
   "outputs": [],
   "source": [
    "class Solution:\n",
    "    def removeElement(self, nums, val):\n",
    "        while val in nums:\n",
    "            nums.remove(val)\n",
    "        return len(nums)"
   ]
  },
  {
   "cell_type": "code",
   "execution_count": 47,
   "id": "ca31a112",
   "metadata": {},
   "outputs": [],
   "source": [
    "nums = [3,2,2,3]\n",
    "val = 3"
   ]
  },
  {
   "cell_type": "code",
   "execution_count": 48,
   "id": "2b40c5d9",
   "metadata": {},
   "outputs": [],
   "source": [
    "solution = Solution()\n",
    "new_elements = solution.removeElement(nums, val)"
   ]
  },
  {
   "cell_type": "code",
   "execution_count": 49,
   "id": "a5cafd42",
   "metadata": {},
   "outputs": [
    {
     "name": "stdout",
     "output_type": "stream",
     "text": [
      "New length: 2\n",
      "Array after removing duplicates: [2, 2]\n"
     ]
    }
   ],
   "source": [
    "print(f\"New length: {new_elements}\")\n",
    "print(f\"Array after removing duplicates: {nums[:new_elements]}\")"
   ]
  },
  {
   "cell_type": "markdown",
   "id": "0c704b9d",
   "metadata": {},
   "source": [
    "## Two Sums"
   ]
  },
  {
   "cell_type": "markdown",
   "id": "a4355ca4",
   "metadata": {},
   "source": [
    "Given an array of integers nums and an integer target, return indices of the two numbers such that they add up to target.\n",
    "\n",
    "- You may assume that each input would have exactly one solution, and you may not use the same element twice.\n",
    "\n",
    "- You can return the answer in any order.\n",
    "\n",
    " \n",
    "\n",
    "Example 1:\n",
    "\n",
    "- Input: nums = [2,7,11,15], target = 9\n",
    "- Output: [0,1]\n",
    "- Explanation: Because nums[0] + nums[1] == 9, we return [0, 1]."
   ]
  },
  {
   "cell_type": "code",
   "execution_count": 10,
   "id": "560b3d22",
   "metadata": {},
   "outputs": [],
   "source": [
    "def twoSum(nums, target):\n",
    "    d = {}\n",
    "    for index, value in enumerate(nums):\n",
    "        diff = target - value\n",
    "        if diff in d:\n",
    "            return [d[diff], index]\n",
    "        else:\n",
    "            d[value] = index"
   ]
  },
  {
   "cell_type": "code",
   "execution_count": 11,
   "id": "6175b81d",
   "metadata": {},
   "outputs": [],
   "source": [
    "nums = [2,7,11,15]\n",
    "target = 9"
   ]
  },
  {
   "cell_type": "code",
   "execution_count": 12,
   "id": "6f4586ad",
   "metadata": {},
   "outputs": [
    {
     "data": {
      "text/plain": [
       "[0, 1]"
      ]
     },
     "execution_count": 12,
     "metadata": {},
     "output_type": "execute_result"
    }
   ],
   "source": [
    "twoSum(nums, target)"
   ]
  },
  {
   "cell_type": "markdown",
   "id": "03c68036",
   "metadata": {},
   "source": [
    "## Search Insert Position"
   ]
  },
  {
   "cell_type": "markdown",
   "id": "73d6abf6",
   "metadata": {},
   "source": [
    "Given a sorted array of distinct integers and a target value, return the index if the target is found. If not, return the index where it would be if it were inserted in order.\n",
    "\n",
    "You must write an algorithm with `O(log n)` runtime complexity.\n",
    "\n",
    " \n",
    "\n",
    "**Example 1:**\n",
    "\n",
    "- Input: nums = [1,3,5,6], target = 5\n",
    "- Output: 2\n"
   ]
  },
  {
   "cell_type": "code",
   "execution_count": 73,
   "id": "6a43b30c",
   "metadata": {},
   "outputs": [],
   "source": [
    "# O(n) solution\n",
    "def searchInsert(nums, target):\n",
    "    for i,v in enumerate(nums):\n",
    "        if v >= target:\n",
    "            return i\n",
    "    \n",
    "    return len(nums)\n",
    "            "
   ]
  },
  {
   "cell_type": "code",
   "execution_count": 74,
   "id": "d0bc466d",
   "metadata": {},
   "outputs": [],
   "source": [
    "nums = [1,3,5,6]\n",
    "target = 4"
   ]
  },
  {
   "cell_type": "code",
   "execution_count": 75,
   "id": "da88d6bb",
   "metadata": {},
   "outputs": [
    {
     "data": {
      "text/plain": [
       "2"
      ]
     },
     "execution_count": 75,
     "metadata": {},
     "output_type": "execute_result"
    }
   ],
   "source": [
    "searchInsert(nums, target)"
   ]
  },
  {
   "cell_type": "code",
   "execution_count": 76,
   "id": "1399327d",
   "metadata": {},
   "outputs": [],
   "source": [
    "# Using Binary Search to halving time at each step"
   ]
  },
  {
   "cell_type": "code",
   "execution_count": 77,
   "id": "a27ca63e",
   "metadata": {},
   "outputs": [],
   "source": [
    "# O(logn) solution\n",
    "def searchInsert(nums, target):\n",
    "    left, right = 0, len(nums) - 1\n",
    "\n",
    "    while left <= right:\n",
    "        mid = left + (right - left) // 2  # Calculate the middle index\n",
    "\n",
    "        if nums[mid] == target:\n",
    "            return mid  # Target found at mid\n",
    "        elif nums[mid] < target:\n",
    "            left = mid + 1  # Move to the right half\n",
    "        else:\n",
    "            right = mid - 1  # Move to the left half\n",
    "\n",
    "    return left  # Target not found, return the insertion point"
   ]
  },
  {
   "cell_type": "code",
   "execution_count": 78,
   "id": "f924d63c",
   "metadata": {},
   "outputs": [],
   "source": [
    "nums = [1,3,5,6]\n",
    "target = 4"
   ]
  },
  {
   "cell_type": "code",
   "execution_count": 79,
   "id": "e7d1939d",
   "metadata": {},
   "outputs": [
    {
     "data": {
      "text/plain": [
       "2"
      ]
     },
     "execution_count": 79,
     "metadata": {},
     "output_type": "execute_result"
    }
   ],
   "source": [
    "searchInsert(nums, target)"
   ]
  },
  {
   "cell_type": "markdown",
   "id": "0f4cdc00",
   "metadata": {},
   "source": [
    "Given a non-negative integer `x`, return the square root of `x` rounded down to the nearest integer. The returned integer should be non-negative as well.\n",
    "\n",
    "You must not use any built-in exponent function or operator.\n",
    "\n",
    "For example, do not use `x ** 0.5` in python.\n",
    " \n",
    "\n",
    "Example 1:\n",
    "- Input: x = 4\n",
    "- Output: 2\n",
    "- Explanation: The square root of 4 is 2, so we return 2.\n",
    "\n",
    "Example 2:\n",
    "- Input: x = 8\n",
    "- Output: 2\n",
    "- Explanation: The square root of 8 is 2.82842..., and since we round it down to the nearest integer, 2 is returned."
   ]
  },
  {
   "cell_type": "code",
   "execution_count": 107,
   "id": "b855e766",
   "metadata": {},
   "outputs": [],
   "source": [
    "def mySqrt(x):\n",
    "\n",
    "    nums = list(range(x+1))\n",
    "    \n",
    "    for num in nums:\n",
    "        if num == x:\n",
    "            return num\n",
    "    \n",
    "    \n",
    "        \n",
    "        "
   ]
  },
  {
   "cell_type": "code",
   "execution_count": 112,
   "id": "e52e1a5b",
   "metadata": {},
   "outputs": [
    {
     "data": {
      "text/plain": [
       "[0, 1, 2, 3]"
      ]
     },
     "execution_count": 112,
     "metadata": {},
     "output_type": "execute_result"
    }
   ],
   "source": [
    "list(range(x+1))"
   ]
  },
  {
   "cell_type": "code",
   "execution_count": 108,
   "id": "017f44b6",
   "metadata": {},
   "outputs": [
    {
     "data": {
      "text/plain": [
       "2"
      ]
     },
     "execution_count": 108,
     "metadata": {},
     "output_type": "execute_result"
    }
   ],
   "source": [
    "input_ = [1,3,5,6]\n",
    "target = 4\n",
    "searchInsert2(nums, target) # 2"
   ]
  },
  {
   "cell_type": "code",
   "execution_count": 109,
   "id": "8be561a7",
   "metadata": {},
   "outputs": [
    {
     "data": {
      "text/plain": [
       "1"
      ]
     },
     "execution_count": 109,
     "metadata": {},
     "output_type": "execute_result"
    }
   ],
   "source": [
    "nums = [1,3,5,6]\n",
    "target = 2\n",
    "searchInsert2(nums, target) # 1"
   ]
  },
  {
   "cell_type": "code",
   "execution_count": 110,
   "id": "147636fa",
   "metadata": {},
   "outputs": [
    {
     "data": {
      "text/plain": [
       "4"
      ]
     },
     "execution_count": 110,
     "metadata": {},
     "output_type": "execute_result"
    }
   ],
   "source": [
    "nums = [1,3,5,6]\n",
    "target = 7\n",
    "searchInsert2(nums, target) # 4"
   ]
  },
  {
   "cell_type": "markdown",
   "id": "d4dc682f",
   "metadata": {},
   "source": [
    "## Traversing through an array"
   ]
  },
  {
   "cell_type": "code",
   "execution_count": 5,
   "id": "a1aa8fd8",
   "metadata": {},
   "outputs": [
    {
     "data": {
      "text/plain": [
       "1"
      ]
     },
     "execution_count": 5,
     "metadata": {},
     "output_type": "execute_result"
    }
   ],
   "source": [
    "# initialise myArray\n",
    "myArray = [1,3,5]\n",
    "\n",
    "# access an arbitrary element, where i is the index of the desired value\n",
    "myArray[0]\n"
   ]
  },
  {
   "cell_type": "code",
   "execution_count": 7,
   "id": "d380c4cf",
   "metadata": {},
   "outputs": [
    {
     "name": "stdout",
     "output_type": "stream",
     "text": [
      "1\n",
      "3\n",
      "5\n"
     ]
    }
   ],
   "source": [
    "for i in range(len(myArray)):\n",
    "    print(myArray[i])"
   ]
  },
  {
   "cell_type": "code",
   "execution_count": 9,
   "id": "f2ddfe43",
   "metadata": {},
   "outputs": [
    {
     "name": "stdout",
     "output_type": "stream",
     "text": [
      "1\n",
      "3\n",
      "5\n"
     ]
    }
   ],
   "source": [
    "for i,v in enumerate(myArray):\n",
    "    print(myArray[i])"
   ]
  },
  {
   "cell_type": "code",
   "execution_count": 8,
   "id": "32247c5d",
   "metadata": {},
   "outputs": [
    {
     "name": "stdout",
     "output_type": "stream",
     "text": [
      "1\n",
      "3\n",
      "5\n"
     ]
    }
   ],
   "source": [
    "i = 0\n",
    "while i < len(myArray):\n",
    "    print(myArray[i])\n",
    "    i += 1"
   ]
  },
  {
   "cell_type": "code",
   "execution_count": null,
   "id": "1069fc03",
   "metadata": {},
   "outputs": [],
   "source": []
  },
  {
   "cell_type": "code",
   "execution_count": null,
   "id": "ffe999c6",
   "metadata": {},
   "outputs": [],
   "source": []
  },
  {
   "cell_type": "code",
   "execution_count": null,
   "id": "90105fad",
   "metadata": {},
   "outputs": [],
   "source": []
  }
 ],
 "metadata": {
  "kernelspec": {
   "display_name": "Python 3 (ipykernel)",
   "language": "python",
   "name": "python3"
  },
  "language_info": {
   "codemirror_mode": {
    "name": "ipython",
    "version": 3
   },
   "file_extension": ".py",
   "mimetype": "text/x-python",
   "name": "python",
   "nbconvert_exporter": "python",
   "pygments_lexer": "ipython3",
   "version": "3.10.6"
  },
  "toc": {
   "base_numbering": 1,
   "nav_menu": {},
   "number_sections": true,
   "sideBar": true,
   "skip_h1_title": false,
   "title_cell": "Table of Contents",
   "title_sidebar": "Contents",
   "toc_cell": false,
   "toc_position": {},
   "toc_section_display": true,
   "toc_window_display": false
  }
 },
 "nbformat": 4,
 "nbformat_minor": 5
}
