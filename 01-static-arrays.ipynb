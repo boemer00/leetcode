{
 "cells": [
  {
   "cell_type": "markdown",
   "id": "e1246e72",
   "metadata": {},
   "source": [
    "# Static Array"
   ]
  },
  {
   "cell_type": "markdown",
   "id": "22bd5b3f",
   "metadata": {},
   "source": [
    "## Remove Duplicates From Sorted Array"
   ]
  },
  {
   "cell_type": "markdown",
   "id": "4b826794",
   "metadata": {},
   "source": [
    "Given an integer array nums sorted in non-decreasing order, remove the duplicates in-place such that each unique element appears only once. The relative order of the elements should be kept the same. Then return the number of unique elements in nums.\n",
    "\n",
    "Consider the number of unique elements of nums to be k, to get accepted, you need to do the following things:\n",
    "\n",
    "- Change the array nums such that the first k elements of nums contain the unique elements in the order they were present in nums initially. The remaining elements of nums are not important as well as the size of nums.\n",
    "- Return k.\n"
   ]
  },
  {
   "cell_type": "code",
   "execution_count": 25,
   "id": "f0d13c76",
   "metadata": {},
   "outputs": [],
   "source": [
    "class Solution:\n",
    "    def removeDuplicates(self, nums):\n",
    "        i = 0\n",
    "        while i < len(nums) - 1:\n",
    "            if nums[i] == nums[i+1]:\n",
    "                nums.pop(i+1)\n",
    "            else:\n",
    "                i += 1\n",
    "        return len(nums)"
   ]
  },
  {
   "cell_type": "code",
   "execution_count": 26,
   "id": "ff6c83f7",
   "metadata": {},
   "outputs": [],
   "source": [
    "nums = [1,1,2]"
   ]
  },
  {
   "cell_type": "code",
   "execution_count": 27,
   "id": "8e89bf23",
   "metadata": {},
   "outputs": [],
   "source": [
    "solution = Solution()\n",
    "new_length = solution.removeDuplicates(nums)"
   ]
  },
  {
   "cell_type": "code",
   "execution_count": 28,
   "id": "78e9a791",
   "metadata": {},
   "outputs": [
    {
     "name": "stdout",
     "output_type": "stream",
     "text": [
      "New length: 2\n",
      "Array after removing duplicates: [1, 2]\n"
     ]
    }
   ],
   "source": [
    "print(f\"New length: {new_length}\")\n",
    "print(f\"Array after removing duplicates: {nums[:new_length]}\")"
   ]
  },
  {
   "cell_type": "markdown",
   "id": "5cb9d1c4",
   "metadata": {},
   "source": [
    "## Remove Element"
   ]
  },
  {
   "cell_type": "markdown",
   "id": "5397a164",
   "metadata": {},
   "source": [
    "Given an integer array nums and an integer val, remove all occurrences of val in nums in-place. The order of the elements may be changed. Then return the number of elements in nums which are not equal to val.\n",
    "\n",
    "Consider the number of elements in nums which are not equal to val be k, to get accepted, you need to do the following things:\n",
    "\n",
    "- Change the array nums such that the first k elements of nums contain the elements which are not equal to val. The remaining elements of nums are not important as well as the size of nums.\n",
    "- Return k."
   ]
  },
  {
   "cell_type": "code",
   "execution_count": 42,
   "id": "f4860db3",
   "metadata": {},
   "outputs": [],
   "source": [
    "class Solution:\n",
    "    def removeElement(self, nums, val):\n",
    "        i = 0\n",
    "        while i <= len(nums) - 1:\n",
    "            if nums[i] == val:\n",
    "                nums.pop(i)\n",
    "            else:\n",
    "                i += 1\n",
    "        return len(nums)"
   ]
  },
  {
   "cell_type": "code",
   "execution_count": 46,
   "id": "c68a2c84",
   "metadata": {},
   "outputs": [],
   "source": [
    "class Solution:\n",
    "    def removeElement(self, nums, val):\n",
    "        while val in nums:\n",
    "            nums.remove(val)\n",
    "        return len(nums)"
   ]
  },
  {
   "cell_type": "code",
   "execution_count": 47,
   "id": "ca31a112",
   "metadata": {},
   "outputs": [],
   "source": [
    "nums = [3,2,2,3]\n",
    "val = 3"
   ]
  },
  {
   "cell_type": "code",
   "execution_count": 48,
   "id": "2b40c5d9",
   "metadata": {},
   "outputs": [],
   "source": [
    "solution = Solution()\n",
    "new_elements = solution.removeElement(nums, val)"
   ]
  },
  {
   "cell_type": "code",
   "execution_count": 49,
   "id": "a5cafd42",
   "metadata": {},
   "outputs": [
    {
     "name": "stdout",
     "output_type": "stream",
     "text": [
      "New length: 2\n",
      "Array after removing duplicates: [2, 2]\n"
     ]
    }
   ],
   "source": [
    "print(f\"New length: {new_elements}\")\n",
    "print(f\"Array after removing duplicates: {nums[:new_elements]}\")"
   ]
  },
  {
   "cell_type": "markdown",
   "id": "d29c6ef1",
   "metadata": {},
   "source": [
    "## Two Sums"
   ]
  },
  {
   "cell_type": "markdown",
   "id": "772c22a4",
   "metadata": {},
   "source": [
    "Given an array of integers nums and an integer target, return indices of the two numbers such that they add up to target.\n",
    "\n",
    "- You may assume that each input would have exactly one solution, and you may not use the same element twice.\n",
    "\n",
    "- You can return the answer in any order.\n",
    "\n",
    " \n",
    "\n",
    "Example 1:\n",
    "\n",
    "- Input: nums = [2,7,11,15], target = 9\n",
    "- Output: [0,1]\n",
    "- Explanation: Because nums[0] + nums[1] == 9, we return [0, 1]."
   ]
  },
  {
   "cell_type": "code",
   "execution_count": 10,
   "id": "c52a4c32",
   "metadata": {},
   "outputs": [],
   "source": [
    "def twoSum(nums, target):\n",
    "    d = {}\n",
    "    for index, value in enumerate(nums):\n",
    "        diff = target - value\n",
    "        if diff in d:\n",
    "            return [d[diff], index]\n",
    "        else:\n",
    "            d[value] = index"
   ]
  },
  {
   "cell_type": "code",
   "execution_count": 11,
   "id": "b98a9bf4",
   "metadata": {},
   "outputs": [],
   "source": [
    "nums = [2,7,11,15]\n",
    "target = 9"
   ]
  },
  {
   "cell_type": "code",
   "execution_count": 12,
   "id": "f13a0f4d",
   "metadata": {},
   "outputs": [
    {
     "data": {
      "text/plain": [
       "[0, 1]"
      ]
     },
     "execution_count": 12,
     "metadata": {},
     "output_type": "execute_result"
    }
   ],
   "source": [
    "twoSum(nums, target)"
   ]
  },
  {
   "cell_type": "code",
   "execution_count": null,
   "id": "f08e3c69",
   "metadata": {},
   "outputs": [],
   "source": []
  }
 ],
 "metadata": {
  "kernelspec": {
   "display_name": "Python 3 (ipykernel)",
   "language": "python",
   "name": "python3"
  },
  "language_info": {
   "codemirror_mode": {
    "name": "ipython",
    "version": 3
   },
   "file_extension": ".py",
   "mimetype": "text/x-python",
   "name": "python",
   "nbconvert_exporter": "python",
   "pygments_lexer": "ipython3",
   "version": "3.10.6"
  },
  "toc": {
   "base_numbering": 1,
   "nav_menu": {},
   "number_sections": true,
   "sideBar": true,
   "skip_h1_title": false,
   "title_cell": "Table of Contents",
   "title_sidebar": "Contents",
   "toc_cell": false,
   "toc_position": {},
   "toc_section_display": true,
   "toc_window_display": false
  }
 },
 "nbformat": 4,
 "nbformat_minor": 5
}
