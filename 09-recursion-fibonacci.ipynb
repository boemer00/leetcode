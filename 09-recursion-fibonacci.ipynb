{
 "cells": [
  {
   "cell_type": "markdown",
   "id": "3265b8e7",
   "metadata": {},
   "source": [
    "# Fibonacci\n"
   ]
  },
  {
   "cell_type": "markdown",
   "id": "941a913b",
   "metadata": {},
   "source": [
    "The Fibonacci sequence is a set of numbers that starts with 0 and 1, and each subsequent number is the sum of the two preceding numbers. The sequence starts like this: \n",
    "\n",
    "0,1,1,2,3,5,8,13,21,34,....\n",
    "\n",
    "\n",
    "**Two-Branch**\n",
    "- the base case: F(0) = 0 and F(1) = 1\n",
    "- the recursive case: F(n) = F(n-1) + F(n-2) "
   ]
  },
  {
   "cell_type": "markdown",
   "id": "a17d1756",
   "metadata": {},
   "source": [
    "## Recursive implementation"
   ]
  },
  {
   "cell_type": "code",
   "execution_count": 1,
   "id": "68e1616b",
   "metadata": {},
   "outputs": [],
   "source": [
    "# time O(2^n)\n",
    "# memory O(2^n)\n",
    "\n",
    "def fib(n):\n",
    "    # Base case\n",
    "    if n <= 1:\n",
    "        return n\n",
    "\n",
    "    # Recursive case\n",
    "    return fib(n - 1) + fib(n - 2)\n"
   ]
  },
  {
   "cell_type": "code",
   "execution_count": 2,
   "id": "84ee7e60",
   "metadata": {},
   "outputs": [
    {
     "data": {
      "text/plain": [
       "8"
      ]
     },
     "execution_count": 2,
     "metadata": {},
     "output_type": "execute_result"
    }
   ],
   "source": [
    "n = 5\n",
    "fib(n)"
   ]
  },
  {
   "cell_type": "markdown",
   "id": "4f97e9de",
   "metadata": {},
   "source": [
    "## Climbing Stairs"
   ]
  },
  {
   "cell_type": "markdown",
   "id": "dcdb195c",
   "metadata": {},
   "source": [
    "You are given an integer n representing the number of steps to reach the top of a staircase. You can climb with either 1 or 2 steps at a time.\n",
    "\n",
    "Return the number of distinct ways to climb to the top of the staircase.\n",
    "\n",
    "**Example:**\n",
    "- Input: n = 2\n",
    "- Output: 2\n",
    "\n",
    "\n",
    "**Explanation:**\n",
    "\n",
    "- 1 + 1 = 2\n",
    "- 2 = 2"
   ]
  },
  {
   "cell_type": "code",
   "execution_count": 5,
   "id": "b4c4bb11",
   "metadata": {},
   "outputs": [],
   "source": [
    "def climbStairs(n):\n",
    "    if n <= 1:\n",
    "        return 1\n",
    "    \n",
    "    return climbStairs(n-1) + climbStairs(n-2)"
   ]
  },
  {
   "cell_type": "code",
   "execution_count": 6,
   "id": "95bb8b79",
   "metadata": {},
   "outputs": [
    {
     "data": {
      "text/plain": [
       "3"
      ]
     },
     "execution_count": 6,
     "metadata": {},
     "output_type": "execute_result"
    }
   ],
   "source": [
    "n = 3\n",
    "climbStairs(n)"
   ]
  },
  {
   "cell_type": "markdown",
   "id": "d961e2e0",
   "metadata": {},
   "source": [
    "This recursive solution works because it breaks down the problem of climbing n steps into two smaller subproblems: climbing n-1 steps and climbing n-2 steps. The base case ensures that when n is 0 or 1, it returns 1, reflecting the fact that there's exactly one way to either stay at the top (for n=0) or take a single step (for n=1). The function then recursively sums the ways to climb n-1 and n-2 steps, effectively building the solution by combining smaller subproblems. This mimics the Fibonacci sequence, where each value is the sum of the two preceding values."
   ]
  },
  {
   "cell_type": "code",
   "execution_count": null,
   "id": "8bb6ce06",
   "metadata": {},
   "outputs": [],
   "source": []
  }
 ],
 "metadata": {
  "kernelspec": {
   "display_name": "Python 3 (ipykernel)",
   "language": "python",
   "name": "python3"
  },
  "language_info": {
   "codemirror_mode": {
    "name": "ipython",
    "version": 3
   },
   "file_extension": ".py",
   "mimetype": "text/x-python",
   "name": "python",
   "nbconvert_exporter": "python",
   "pygments_lexer": "ipython3",
   "version": "3.10.6"
  },
  "toc": {
   "base_numbering": 1,
   "nav_menu": {},
   "number_sections": true,
   "sideBar": true,
   "skip_h1_title": false,
   "title_cell": "Table of Contents",
   "title_sidebar": "Contents",
   "toc_cell": false,
   "toc_position": {},
   "toc_section_display": true,
   "toc_window_display": false
  }
 },
 "nbformat": 4,
 "nbformat_minor": 5
}
