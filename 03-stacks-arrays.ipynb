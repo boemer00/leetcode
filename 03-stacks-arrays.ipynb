{
 "cells": [
  {
   "cell_type": "markdown",
   "id": "e1246e72",
   "metadata": {},
   "source": [
    "# Stacks"
   ]
  },
  {
   "cell_type": "markdown",
   "id": "22bd5b3f",
   "metadata": {},
   "source": [
    "## Validate Parentheses"
   ]
  },
  {
   "cell_type": "markdown",
   "id": "4b826794",
   "metadata": {},
   "source": [
    "You are given a string `s` consisting of the following characters: `(`, `)`, `{`, `}`, `[` and `]`.\n",
    "\n",
    "The input string `s` is valid if and only if:\n",
    "\n",
    "- Every open bracket is closed by the same type of close bracket.\n",
    "- Open brackets are closed in the correct order.\n",
    "- Every close bracket has a corresponding open bracket of the same type.\n",
    "- Return true if `s` is a valid string, and false otherwise."
   ]
  },
  {
   "cell_type": "code",
   "execution_count": 1,
   "id": "f0d13c76",
   "metadata": {},
   "outputs": [],
   "source": [
    "class Solution:\n",
    "    def isValid(self, s):\n",
    "        # Map closing brackets to their corresponding opening brackets\n",
    "        Map = {\")\": \"(\", \"]\": \"[\", \"}\": \"{\"}\n",
    "        # Stack to keep track of opening brackets\n",
    "        stack = []\n",
    "\n",
    "        for c in s:\n",
    "            if c not in Map:\n",
    "                # If it's an opening bracket, push onto stack\n",
    "                stack.append(c)\n",
    "                continue\n",
    "\n",
    "            # If stack is empty or top of stack doesn't match, return False\n",
    "            if not stack or stack[-1] != Map[c]:\n",
    "                return False\n",
    "\n",
    "            # Pop the top element as it matches the current closing bracket\n",
    "            stack.pop()\n",
    "\n",
    "        # Return True if the stack is empty (all brackets matched)\n",
    "        return not stack"
   ]
  },
  {
   "cell_type": "code",
   "execution_count": 6,
   "id": "ff6c83f7",
   "metadata": {},
   "outputs": [],
   "source": [
    "s = \"[]\"\n",
    "r = \"()[]{}\"\n",
    "t = \"(]\""
   ]
  },
  {
   "cell_type": "code",
   "execution_count": 8,
   "id": "8e89bf23",
   "metadata": {},
   "outputs": [
    {
     "name": "stdout",
     "output_type": "stream",
     "text": [
      "True\n",
      "True\n",
      "False\n"
     ]
    }
   ],
   "source": [
    "solution = Solution()\n",
    "\n",
    "output1 = solution.isValid(s)\n",
    "print(output1)\n",
    "\n",
    "output2 = solution.isValid(r)\n",
    "print(output2)\n",
    "\n",
    "output3 = solution.isValid(t)\n",
    "print(output3)"
   ]
  },
  {
   "cell_type": "markdown",
   "id": "32af962b",
   "metadata": {},
   "source": [
    "## Min Stacks"
   ]
  },
  {
   "cell_type": "markdown",
   "id": "6119ef0c",
   "metadata": {},
   "source": [
    "Design a stack class that supports the `push`, `pop`, `top`, and `getMin` operations.\n",
    "\n",
    "- `MinStack()` initializes the stack object.\n",
    "- void `push(int val)` pushes the element val onto the stack.\n",
    "- void `pop()` removes the element on the top of the stack.\n",
    "- int `top()` gets the top element of the stack.\n",
    "- int `getMin()` retrieves the minimum element in the stack.\n",
    "- Each function should run in `O(1)` time.\n",
    "\n",
    "Example 1:"
   ]
  },
  {
   "cell_type": "code",
   "execution_count": null,
   "id": "b512aba2",
   "metadata": {},
   "outputs": [],
   "source": [
    "# Input: [\"MinStack\", \"push\", 1, \"push\", 2, \"push\", 0, \"getMin\", \"pop\", \"top\", \"getMin\"]\n",
    "\n",
    "# Output: [null,null,null,null,0,null,2,1]\n",
    "\n",
    "# Explanation:\n",
    "# MinStack minStack = new MinStack();\n",
    "# minStack.push(1);\n",
    "# minStack.push(2);\n",
    "# minStack.push(0);\n",
    "# minStack.getMin(); // return 0\n",
    "# minStack.pop();\n",
    "# minStack.top();    // return 2\n",
    "# minStack.getMin(); // return 1"
   ]
  },
  {
   "cell_type": "code",
   "execution_count": 25,
   "id": "a620b31d",
   "metadata": {},
   "outputs": [],
   "source": [
    "class MinStack:\n",
    "\n",
    "    def __init__(self):\n",
    "        self.stack = []\n",
    "        self.minStack = []\n",
    "\n",
    "    def push(self, val: int) -> None:\n",
    "        self.stack.append(val)\n",
    "        val = min(val, self.minStack[-1] if self.minStack else val)\n",
    "        self.minStack.append(val)\n",
    "\n",
    "    def pop(self) -> None:\n",
    "        self.stack.pop()\n",
    "        self.minStack.pop()\n",
    "\n",
    "    def top(self) -> int:\n",
    "        return self.stack[-1] \n",
    "\n",
    "    def getMin(self) -> int:\n",
    "        return self.minStack[-1]\n"
   ]
  },
  {
   "cell_type": "code",
   "execution_count": 26,
   "id": "ea571d33",
   "metadata": {},
   "outputs": [],
   "source": [
    "s = [\"MinStack\", \"push\", 1, \"push\", 2, \"push\", 0, \"getMin\", \"pop\", \"top\", \"getMin\"]"
   ]
  },
  {
   "cell_type": "code",
   "execution_count": 28,
   "id": "29f36d46",
   "metadata": {},
   "outputs": [
    {
     "name": "stdout",
     "output_type": "stream",
     "text": [
      "[None, None, None, None, 0, None, 2, 1]\n"
     ]
    }
   ],
   "source": [
    "def execute_operations(operations):\n",
    "    min_stack = None\n",
    "    output = []\n",
    "\n",
    "    i = 0\n",
    "    while i < len(operations):\n",
    "        operation = operations[i]\n",
    "        \n",
    "        if operation == \"MinStack\":\n",
    "            min_stack = MinStack()\n",
    "            output.append(None)  # No output for initialization\n",
    "        elif operation == \"push\":\n",
    "            i += 1  # Increment to get the next number for push\n",
    "            value = operations[i]\n",
    "            min_stack.push(value)\n",
    "            output.append(None)  # No output for push\n",
    "        elif operation == \"pop\":\n",
    "            min_stack.pop()\n",
    "            output.append(None)  # No output for pop\n",
    "        elif operation == \"top\":\n",
    "            result = min_stack.top()\n",
    "            output.append(result)\n",
    "        elif operation == \"getMin\":\n",
    "            result = min_stack.getMin()\n",
    "            output.append(result)\n",
    "        \n",
    "        i += 1  # Move to the next operation\n",
    "\n",
    "    return output\n",
    "\n",
    "# Example usage:\n",
    "operations = [\"MinStack\", \"push\", 1, \"push\", 2, \"push\", 0, \"getMin\", \"pop\", \"top\", \"getMin\"]\n",
    "output = execute_operations(operations)\n",
    "print(output)"
   ]
  },
  {
   "cell_type": "code",
   "execution_count": null,
   "id": "cb1cd719",
   "metadata": {},
   "outputs": [],
   "source": []
  }
 ],
 "metadata": {
  "kernelspec": {
   "display_name": "Python 3 (ipykernel)",
   "language": "python",
   "name": "python3"
  },
  "language_info": {
   "codemirror_mode": {
    "name": "ipython",
    "version": 3
   },
   "file_extension": ".py",
   "mimetype": "text/x-python",
   "name": "python",
   "nbconvert_exporter": "python",
   "pygments_lexer": "ipython3",
   "version": "3.10.6"
  },
  "toc": {
   "base_numbering": 1,
   "nav_menu": {},
   "number_sections": true,
   "sideBar": true,
   "skip_h1_title": false,
   "title_cell": "Table of Contents",
   "title_sidebar": "Contents",
   "toc_cell": false,
   "toc_position": {},
   "toc_section_display": true,
   "toc_window_display": false
  }
 },
 "nbformat": 4,
 "nbformat_minor": 5
}
