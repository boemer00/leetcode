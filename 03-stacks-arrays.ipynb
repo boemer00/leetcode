{
 "cells": [
  {
   "cell_type": "markdown",
   "id": "e1246e72",
   "metadata": {},
   "source": [
    "# Stacks"
   ]
  },
  {
   "cell_type": "markdown",
   "id": "22bd5b3f",
   "metadata": {},
   "source": [
    "## Validate Parentheses"
   ]
  },
  {
   "cell_type": "markdown",
   "id": "4b826794",
   "metadata": {},
   "source": [
    "You are given a string `s` consisting of the following characters: `(`, `)`, `{`, `}`, `[` and `]`.\n",
    "\n",
    "The input string `s` is valid if and only if:\n",
    "\n",
    "- Every open bracket is closed by the same type of close bracket.\n",
    "- Open brackets are closed in the correct order.\n",
    "- Every close bracket has a corresponding open bracket of the same type.\n",
    "- Return true if `s` is a valid string, and false otherwise."
   ]
  },
  {
   "cell_type": "code",
   "execution_count": 1,
   "id": "f0d13c76",
   "metadata": {},
   "outputs": [],
   "source": [
    "class Solution:\n",
    "    def isValid(self, s):\n",
    "        # Map closing brackets to their corresponding opening brackets\n",
    "        Map = {\")\": \"(\", \"]\": \"[\", \"}\": \"{\"}\n",
    "        # Stack to keep track of opening brackets\n",
    "        stack = []\n",
    "\n",
    "        for c in s:\n",
    "            if c not in Map:\n",
    "                # If it's an opening bracket, push onto stack\n",
    "                stack.append(c)\n",
    "                continue\n",
    "\n",
    "            # If stack is empty or top of stack doesn't match, return False\n",
    "            if not stack or stack[-1] != Map[c]:\n",
    "                return False\n",
    "\n",
    "            # Pop the top element as it matches the current closing bracket\n",
    "            stack.pop()\n",
    "\n",
    "        # Return True if the stack is empty (all brackets matched)\n",
    "        return not stack"
   ]
  },
  {
   "cell_type": "code",
   "execution_count": 6,
   "id": "ff6c83f7",
   "metadata": {},
   "outputs": [],
   "source": [
    "s = \"[]\"\n",
    "r = \"()[]{}\"\n",
    "t = \"(]\""
   ]
  },
  {
   "cell_type": "code",
   "execution_count": 8,
   "id": "8e89bf23",
   "metadata": {},
   "outputs": [
    {
     "name": "stdout",
     "output_type": "stream",
     "text": [
      "True\n",
      "True\n",
      "False\n"
     ]
    }
   ],
   "source": [
    "solution = Solution()\n",
    "\n",
    "output1 = solution.isValid(s)\n",
    "print(output1)\n",
    "\n",
    "output2 = solution.isValid(r)\n",
    "print(output2)\n",
    "\n",
    "output3 = solution.isValid(t)\n",
    "print(output3)"
   ]
  }
 ],
 "metadata": {
  "kernelspec": {
   "display_name": "Python 3 (ipykernel)",
   "language": "python",
   "name": "python3"
  },
  "language_info": {
   "codemirror_mode": {
    "name": "ipython",
    "version": 3
   },
   "file_extension": ".py",
   "mimetype": "text/x-python",
   "name": "python",
   "nbconvert_exporter": "python",
   "pygments_lexer": "ipython3",
   "version": "3.10.6"
  },
  "toc": {
   "base_numbering": 1,
   "nav_menu": {},
   "number_sections": true,
   "sideBar": true,
   "skip_h1_title": false,
   "title_cell": "Table of Contents",
   "title_sidebar": "Contents",
   "toc_cell": false,
   "toc_position": {},
   "toc_section_display": true,
   "toc_window_display": false
  }
 },
 "nbformat": 4,
 "nbformat_minor": 5
}
