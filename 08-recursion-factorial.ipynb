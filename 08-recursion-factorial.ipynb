{
 "cells": [
  {
   "cell_type": "markdown",
   "id": "3265b8e7",
   "metadata": {},
   "source": [
    "# Factorial"
   ]
  },
  {
   "cell_type": "markdown",
   "id": "941a913b",
   "metadata": {},
   "source": [
    "**One-Branch**\n",
    "- n! = n * (n-1)!\n",
    "- if n <= 1, then return 1\n",
    "- time O(n)\n",
    "- space O(n)"
   ]
  },
  {
   "cell_type": "markdown",
   "id": "a17d1756",
   "metadata": {},
   "source": [
    "## Recursive implementation"
   ]
  },
  {
   "cell_type": "code",
   "execution_count": 7,
   "id": "68e1616b",
   "metadata": {},
   "outputs": [],
   "source": [
    "# time O(n)\n",
    "# memory O(n)\n",
    "\n",
    "def factorial(n):\n",
    "    # Base case: n = 0 or 1\n",
    "    if n <= 1:\n",
    "        return 1\n",
    "\n",
    "    # Recursive case: n! = n * (n - 1)!\n",
    "    return n * factorial(n - 1)\n"
   ]
  },
  {
   "cell_type": "code",
   "execution_count": 3,
   "id": "84ee7e60",
   "metadata": {},
   "outputs": [
    {
     "data": {
      "text/plain": [
       "120"
      ]
     },
     "execution_count": 3,
     "metadata": {},
     "output_type": "execute_result"
    }
   ],
   "source": [
    "n = 5\n",
    "factorial(n)"
   ]
  },
  {
   "cell_type": "markdown",
   "id": "4f97e9de",
   "metadata": {},
   "source": [
    "## Iterative implementation"
   ]
  },
  {
   "cell_type": "code",
   "execution_count": 5,
   "id": "b4c4bb11",
   "metadata": {},
   "outputs": [],
   "source": [
    "n = 5\n",
    "res = 1\n",
    "\n",
    "while n > 1:\n",
    "    res = res * n\n",
    "    n -= 1\n"
   ]
  },
  {
   "cell_type": "code",
   "execution_count": null,
   "id": "95bb8b79",
   "metadata": {},
   "outputs": [],
   "source": []
  }
 ],
 "metadata": {
  "kernelspec": {
   "display_name": "Python 3 (ipykernel)",
   "language": "python",
   "name": "python3"
  },
  "language_info": {
   "codemirror_mode": {
    "name": "ipython",
    "version": 3
   },
   "file_extension": ".py",
   "mimetype": "text/x-python",
   "name": "python",
   "nbconvert_exporter": "python",
   "pygments_lexer": "ipython3",
   "version": "3.10.6"
  },
  "toc": {
   "base_numbering": 1,
   "nav_menu": {},
   "number_sections": true,
   "sideBar": true,
   "skip_h1_title": false,
   "title_cell": "Table of Contents",
   "title_sidebar": "Contents",
   "toc_cell": false,
   "toc_position": {},
   "toc_section_display": true,
   "toc_window_display": false
  }
 },
 "nbformat": 4,
 "nbformat_minor": 5
}
