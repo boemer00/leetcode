{
 "cells": [
  {
   "cell_type": "markdown",
   "id": "fd0663c8",
   "metadata": {},
   "source": [
    "## Linear Regression Using Normal Equation (easy)"
   ]
  },
  {
   "cell_type": "markdown",
   "id": "997d9106",
   "metadata": {},
   "source": [
    "Write a Python function that performs linear regression using the normal equation. The function should take a matrix `X` (features) and a vector `y` (target) as input, and return the coefficients of the linear regression model. Round your answer to four decimal places, -0.0 is a valid result for rounding a very small number.\n",
    "\n",
    "**Note:**\n",
    "- Use `y = mx + b` for simple linear regression with one independent variable.\n",
    "- Use $$\\theta = (X^T X)^{-1} X^T y$$ for multiple linear regression or any linear regression problem involving more than one independent variable, or when you want to take a more generalized matrix-based approach.\n"
   ]
  },
  {
   "cell_type": "code",
   "execution_count": 15,
   "id": "797b0769",
   "metadata": {},
   "outputs": [],
   "source": [
    "X = [[1, 1], [1, 2], [1, 3]]\n",
    "y = [1, 2, 3]"
   ]
  },
  {
   "cell_type": "code",
   "execution_count": 16,
   "id": "a6a49d7a",
   "metadata": {},
   "outputs": [],
   "source": [
    "import numpy as np\n",
    "def linear_regression_normal_equation(X: list[list[float]], y: list[float]) -> list[float]:\n",
    "    # convert to numpy arrays\n",
    "    X = np.array(X) \n",
    "    y = np.array(y).reshape(-1,1) # ensure y is a column vector\n",
    "    \n",
    "    # compute theta using the normal equation\n",
    "    theta = np.linalg.inv(X.T @ X) @ (X.T @ y)\n",
    "\n",
    "    # flatten the array to ensure it is a 1D array\n",
    "    theta = np.round(theta, 4).flatten()\n",
    "\n",
    "    # convert it to a list\n",
    "    return theta.tolist()"
   ]
  },
  {
   "cell_type": "code",
   "execution_count": 17,
   "id": "ce537670",
   "metadata": {},
   "outputs": [
    {
     "data": {
      "text/plain": [
       "[-0.0, 1.0]"
      ]
     },
     "execution_count": 17,
     "metadata": {},
     "output_type": "execute_result"
    }
   ],
   "source": [
    "linear_regression_normal_equation(X, y)"
   ]
  },
  {
   "cell_type": "code",
   "execution_count": 18,
   "id": "98a001b0",
   "metadata": {},
   "outputs": [],
   "source": [
    "from sklearn.linear_model import LinearRegression\n",
    "\n",
    "def linear_regression_normal_equation_sk(X: list[list[float]], y: list[float]) -> list[float]:\n",
    "    model = LinearRegression(fit_intercept=True)\n",
    "    model.fit(X, y)\n",
    "    \n",
    "    theta = model.coef_\n",
    "    \n",
    "    return np.round(theta, 4).tolist()"
   ]
  },
  {
   "cell_type": "code",
   "execution_count": 19,
   "id": "c302b073",
   "metadata": {},
   "outputs": [
    {
     "data": {
      "text/plain": [
       "[0.0, 1.0]"
      ]
     },
     "execution_count": 19,
     "metadata": {},
     "output_type": "execute_result"
    }
   ],
   "source": [
    "linear_regression_normal_equation_sk(X, y)"
   ]
  },
  {
   "cell_type": "markdown",
   "id": "93bea37e",
   "metadata": {},
   "source": [
    "### Why .reshape( )?"
   ]
  },
  {
   "cell_type": "code",
   "execution_count": 14,
   "id": "1c518945",
   "metadata": {},
   "outputs": [
    {
     "name": "stdout",
     "output_type": "stream",
     "text": [
      "(3,)\n",
      "(3,)\n"
     ]
    }
   ],
   "source": [
    "v_1d = np.array([7, 8, 9])\n",
    "print(v_1d.shape)\n",
    "print(v_1d.T.shape)"
   ]
  },
  {
   "cell_type": "code",
   "execution_count": 13,
   "id": "87d458cb",
   "metadata": {},
   "outputs": [
    {
     "name": "stdout",
     "output_type": "stream",
     "text": [
      "(3, 1)\n",
      "(1, 3)\n"
     ]
    }
   ],
   "source": [
    "v_2d = np.array([7, 8, 9]).reshape(-1,1)\n",
    "print(v_2d.shape)\n",
    "print(v_2d.T.shape)"
   ]
  },
  {
   "cell_type": "code",
   "execution_count": null,
   "id": "cbe610e3",
   "metadata": {},
   "outputs": [],
   "source": []
  },
  {
   "cell_type": "code",
   "execution_count": null,
   "id": "f272bf41",
   "metadata": {},
   "outputs": [],
   "source": []
  },
  {
   "cell_type": "code",
   "execution_count": null,
   "id": "772f552c",
   "metadata": {},
   "outputs": [],
   "source": []
  },
  {
   "cell_type": "code",
   "execution_count": null,
   "id": "4a78cbce",
   "metadata": {},
   "outputs": [],
   "source": []
  },
  {
   "cell_type": "code",
   "execution_count": null,
   "id": "0cb581ef",
   "metadata": {},
   "outputs": [],
   "source": []
  },
  {
   "cell_type": "code",
   "execution_count": null,
   "id": "95bd7cc7",
   "metadata": {},
   "outputs": [],
   "source": []
  },
  {
   "cell_type": "code",
   "execution_count": null,
   "id": "9c81ee51",
   "metadata": {},
   "outputs": [],
   "source": []
  }
 ],
 "metadata": {
  "kernelspec": {
   "display_name": "Python 3 (ipykernel)",
   "language": "python",
   "name": "python3"
  },
  "language_info": {
   "codemirror_mode": {
    "name": "ipython",
    "version": 3
   },
   "file_extension": ".py",
   "mimetype": "text/x-python",
   "name": "python",
   "nbconvert_exporter": "python",
   "pygments_lexer": "ipython3",
   "version": "3.10.6"
  },
  "toc": {
   "base_numbering": 1,
   "nav_menu": {},
   "number_sections": true,
   "sideBar": true,
   "skip_h1_title": false,
   "title_cell": "Table of Contents",
   "title_sidebar": "Contents",
   "toc_cell": false,
   "toc_position": {},
   "toc_section_display": true,
   "toc_window_display": false
  }
 },
 "nbformat": 4,
 "nbformat_minor": 5
}
