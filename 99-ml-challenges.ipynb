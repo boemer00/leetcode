{
 "cells": [
  {
   "cell_type": "code",
   "execution_count": null,
   "id": "7815e4bd",
   "metadata": {},
   "outputs": [],
   "source": []
  },
  {
   "cell_type": "code",
   "execution_count": null,
   "id": "33d0438e",
   "metadata": {},
   "outputs": [],
   "source": []
  },
  {
   "cell_type": "markdown",
   "id": "d9083dcb",
   "metadata": {},
   "source": [
    "## Linear Regression Using Normal Equation (easy)"
   ]
  },
  {
   "cell_type": "markdown",
   "id": "de238115",
   "metadata": {},
   "source": [
    "Write a Python function that performs linear regression using the normal equation. The function should take a matrix X (features) and a vector y (target) as input, and return the coefficients of the linear regression model. Round your answer to four decimal places, -0.0 is a valid result for rounding a very small number."
   ]
  },
  {
   "cell_type": "code",
   "execution_count": 12,
   "id": "05471a91",
   "metadata": {},
   "outputs": [],
   "source": [
    "X = [[1, 1], [1, 2], [1, 3]]\n",
    "y = [1, 2, 3]\n",
    "\n",
    "# output: [0.0, 1.0]\n",
    "# reasoning: The linear model is y = 0.0 + 1.0*x, perfectly fitting the input data."
   ]
  },
  {
   "cell_type": "markdown",
   "id": "e476f7e5",
   "metadata": {},
   "source": [
    "The normal equation is:\n",
    "\n",
    "<div align=\"left\">\n",
    "$$\n",
    "\\theta = (X^T X)^{-1} X^T y\n",
    "$$\n",
    "</div>"
   ]
  },
  {
   "cell_type": "code",
   "execution_count": 54,
   "id": "483c0241",
   "metadata": {},
   "outputs": [],
   "source": [
    "import numpy as np\n",
    "def linear_regression_normal_equation(X: list[list[float]], y: list[float]) -> list[float]:\n",
    "    X, y = np.array(X), np.array(y)\n",
    "    \n",
    "    theta = np.linalg.inv(X.T @ X) @ X.T @ y\n",
    "        \n",
    "    return np.round(theta, 4).tolist()"
   ]
  },
  {
   "cell_type": "code",
   "execution_count": 55,
   "id": "e4491cf2",
   "metadata": {},
   "outputs": [
    {
     "data": {
      "text/plain": [
       "[-0.0, 1.0]"
      ]
     },
     "execution_count": 55,
     "metadata": {},
     "output_type": "execute_result"
    }
   ],
   "source": [
    "linear_regression_normal_equation(X, y)"
   ]
  },
  {
   "cell_type": "code",
   "execution_count": 67,
   "id": "9c92b7b1",
   "metadata": {},
   "outputs": [],
   "source": [
    "from sklearn.linear_model import LinearRegression\n",
    "\n",
    "def linear_regression_normal_equation_sk(X: list[list[float]], y: list[float]) -> list[float]:\n",
    "    model = LinearRegression(fit_intercept=True)\n",
    "    model.fit(X, y)\n",
    "    \n",
    "    theta = model.coef_\n",
    "    \n",
    "    return np.round(theta, 4).tolist()"
   ]
  },
  {
   "cell_type": "code",
   "execution_count": 68,
   "id": "b05df202",
   "metadata": {},
   "outputs": [
    {
     "data": {
      "text/plain": [
       "[0.0, 1.0]"
      ]
     },
     "execution_count": 68,
     "metadata": {},
     "output_type": "execute_result"
    }
   ],
   "source": [
    "linear_regression_normal_equation_sk(X, y)"
   ]
  },
  {
   "cell_type": "code",
   "execution_count": null,
   "id": "5c1eca6f",
   "metadata": {},
   "outputs": [],
   "source": []
  }
 ],
 "metadata": {
  "kernelspec": {
   "display_name": "Python 3 (ipykernel)",
   "language": "python",
   "name": "python3"
  },
  "language_info": {
   "codemirror_mode": {
    "name": "ipython",
    "version": 3
   },
   "file_extension": ".py",
   "mimetype": "text/x-python",
   "name": "python",
   "nbconvert_exporter": "python",
   "pygments_lexer": "ipython3",
   "version": "3.10.6"
  },
  "toc": {
   "base_numbering": 1,
   "nav_menu": {},
   "number_sections": true,
   "sideBar": true,
   "skip_h1_title": false,
   "title_cell": "Table of Contents",
   "title_sidebar": "Contents",
   "toc_cell": false,
   "toc_position": {},
   "toc_section_display": true,
   "toc_window_display": false
  }
 },
 "nbformat": 4,
 "nbformat_minor": 5
}
