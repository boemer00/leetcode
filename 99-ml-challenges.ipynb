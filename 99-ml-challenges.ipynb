{
 "cells": [
  {
   "cell_type": "markdown",
   "id": "fd0663c8",
   "metadata": {},
   "source": [
    "# Linear Regression Using Normal Equation (easy)"
   ]
  },
  {
   "cell_type": "markdown",
   "id": "997d9106",
   "metadata": {},
   "source": [
    "Write a Python function that performs linear regression using the normal equation. The function should take a matrix `X` (features) and a vector `y` (target) as input, and return the coefficients of the linear regression model. Round your answer to four decimal places, -0.0 is a valid result for rounding a very small number.\n",
    "\n",
    "**Note:**\n",
    "- Use `y = mx + b` for simple linear regression with one independent variable.\n",
    "- Use $$\\theta = (X^T X)^{-1} X^T y$$ for multiple linear regression or any linear regression problem involving more than one independent variable, or when you want to take a more generalized matrix-based approach.\n",
    "    - `X` is the design matrix (with each column representing an independent variable and each row representing an observation).\n",
    "    - `y` is the vector of observed values for the dependent variable.\n"
   ]
  },
  {
   "cell_type": "code",
   "execution_count": 15,
   "id": "797b0769",
   "metadata": {},
   "outputs": [],
   "source": [
    "X = [[1, 1], [1, 2], [1, 3]]\n",
    "y = [1, 2, 3]"
   ]
  },
  {
   "cell_type": "code",
   "execution_count": 16,
   "id": "a6a49d7a",
   "metadata": {},
   "outputs": [],
   "source": [
    "import numpy as np\n",
    "def linear_regression_normal_equation(X: list[list[float]], y: list[float]) -> list[float]:\n",
    "    # convert to numpy arrays\n",
    "    X = np.array(X) \n",
    "    y = np.array(y).reshape(-1,1) # ensure y is a column vector\n",
    "    \n",
    "    # compute theta using the normal equation\n",
    "    theta = np.linalg.inv(X.T @ X) @ (X.T @ y)\n",
    "\n",
    "    # flatten the array to ensure it is a 1D array\n",
    "    theta = np.round(theta, 4).flatten()\n",
    "\n",
    "    # convert it to a list\n",
    "    return theta.tolist()"
   ]
  },
  {
   "cell_type": "code",
   "execution_count": 17,
   "id": "ce537670",
   "metadata": {},
   "outputs": [
    {
     "data": {
      "text/plain": [
       "[-0.0, 1.0]"
      ]
     },
     "execution_count": 17,
     "metadata": {},
     "output_type": "execute_result"
    }
   ],
   "source": [
    "linear_regression_normal_equation(X, y)"
   ]
  },
  {
   "cell_type": "code",
   "execution_count": 18,
   "id": "98a001b0",
   "metadata": {},
   "outputs": [],
   "source": [
    "from sklearn.linear_model import LinearRegression\n",
    "\n",
    "def linear_regression_normal_equation_sk(X: list[list[float]], y: list[float]) -> list[float]:\n",
    "    model = LinearRegression(fit_intercept=True)\n",
    "    model.fit(X, y)\n",
    "    \n",
    "    theta = model.coef_\n",
    "    \n",
    "    return np.round(theta, 4).tolist()"
   ]
  },
  {
   "cell_type": "code",
   "execution_count": 19,
   "id": "c302b073",
   "metadata": {},
   "outputs": [
    {
     "data": {
      "text/plain": [
       "[0.0, 1.0]"
      ]
     },
     "execution_count": 19,
     "metadata": {},
     "output_type": "execute_result"
    }
   ],
   "source": [
    "linear_regression_normal_equation_sk(X, y)"
   ]
  },
  {
   "cell_type": "markdown",
   "id": "3b413e82",
   "metadata": {},
   "source": [
    "## Why .reshape( )?"
   ]
  },
  {
   "cell_type": "code",
   "execution_count": 14,
   "id": "1c518945",
   "metadata": {},
   "outputs": [
    {
     "name": "stdout",
     "output_type": "stream",
     "text": [
      "(3,)\n",
      "(3,)\n"
     ]
    }
   ],
   "source": [
    "v_1d = np.array([7, 8, 9])\n",
    "print(v_1d.shape)\n",
    "print(v_1d.T.shape)"
   ]
  },
  {
   "cell_type": "code",
   "execution_count": 13,
   "id": "87d458cb",
   "metadata": {},
   "outputs": [
    {
     "name": "stdout",
     "output_type": "stream",
     "text": [
      "(3, 1)\n",
      "(1, 3)\n"
     ]
    }
   ],
   "source": [
    "v_2d = np.array([7, 8, 9]).reshape(-1,1)\n",
    "print(v_2d.shape)\n",
    "print(v_2d.T.shape)"
   ]
  },
  {
   "cell_type": "markdown",
   "id": "af13db2f",
   "metadata": {},
   "source": [
    "# Matrix times Vector (easy)"
   ]
  },
  {
   "cell_type": "markdown",
   "id": "7c0b8055",
   "metadata": {},
   "source": [
    "Write a Python function that takes the dot product of a matrix and a vector. return `-1` if the matrix could not be dotted with the vector\n",
    "\n",
    "**Example:**\n",
    "- input: \n",
    "    - a = [[1,2],[2,4]]\n",
    "    - b = [1,2]\n",
    "\n",
    "- output:\n",
    "    - [5, 10] \n",
    "\n",
    "- reasoning: \n",
    "    - 1 * 1 + 2 * 2 = 5\n",
    "    - 1 * 2 + 2 * 4 = 10"
   ]
  },
  {
   "cell_type": "code",
   "execution_count": 43,
   "id": "f272bf41",
   "metadata": {},
   "outputs": [],
   "source": [
    "def matrix_dot_vector(a:list[list[int|float]], b:list[int|float])-> list[int|float]:\n",
    "    if len(a[0]) != len(b):\n",
    "        return -1\n",
    "    \n",
    "    a = np.array(a)\n",
    "    b = np.array(b).reshape(-1, 1)\n",
    "    \n",
    "    return a @ b"
   ]
  },
  {
   "cell_type": "code",
   "execution_count": 44,
   "id": "772f552c",
   "metadata": {},
   "outputs": [
    {
     "data": {
      "text/plain": [
       "array([[ 5],\n",
       "       [10]])"
      ]
     },
     "execution_count": 44,
     "metadata": {},
     "output_type": "execute_result"
    }
   ],
   "source": [
    "a = [[1,2],[2,4]]\n",
    "b = [1,2]\n",
    "matrix_dot_vector(a, b)"
   ]
  },
  {
   "cell_type": "code",
   "execution_count": 40,
   "id": "4a78cbce",
   "metadata": {},
   "outputs": [],
   "source": [
    "def matrix_dot_vector(a:list[list[int|float]],b:list[int|float])-> list[int|float]:\n",
    "    matrix = a\n",
    "    vector = b\n",
    "    \n",
    "    if len(matrix[0]) != len(vector):\n",
    "        return -1\n",
    "    \n",
    "    result = [0] * len(matrix)\n",
    "    \n",
    "    for i in range(len(matrix)):\n",
    "        for j in range(len(vector)):\n",
    "            result[i] += matrix[i][j] * vector[j]\n",
    "    \n",
    "    return result"
   ]
  },
  {
   "cell_type": "markdown",
   "id": "981dc725",
   "metadata": {},
   "source": [
    "For small to moderately sized matrices, this version may perform better due to its lower overhead. However, for large-scale computations or more complex operations, leveraging NumPy would typically be more efficient due to its highly optimised routines."
   ]
  },
  {
   "cell_type": "markdown",
   "id": "c9079ce4",
   "metadata": {},
   "source": [
    "# Reshape Matrix (easy)"
   ]
  },
  {
   "cell_type": "markdown",
   "id": "25464a97",
   "metadata": {},
   "source": [
    "Write a Python function that reshapes a given matrix into a specified shape."
   ]
  },
  {
   "cell_type": "code",
   "execution_count": null,
   "id": "9f875b72",
   "metadata": {},
   "outputs": [],
   "source": [
    "import numpy as np\n",
    "\n",
    "def reshape_matrix(a: list[list[int|float]], new_shape: tuple[int, int]) -> list[list[int|float]]:\n",
    "    # your code here\n",
    "    return reshaped_matrix"
   ]
  }
 ],
 "metadata": {
  "kernelspec": {
   "display_name": "Python 3 (ipykernel)",
   "language": "python",
   "name": "python3"
  },
  "language_info": {
   "codemirror_mode": {
    "name": "ipython",
    "version": 3
   },
   "file_extension": ".py",
   "mimetype": "text/x-python",
   "name": "python",
   "nbconvert_exporter": "python",
   "pygments_lexer": "ipython3",
   "version": "3.10.6"
  },
  "toc": {
   "base_numbering": 1,
   "nav_menu": {},
   "number_sections": true,
   "sideBar": true,
   "skip_h1_title": false,
   "title_cell": "Table of Contents",
   "title_sidebar": "Contents",
   "toc_cell": false,
   "toc_position": {},
   "toc_section_display": true,
   "toc_window_display": false
  }
 },
 "nbformat": 4,
 "nbformat_minor": 5
}
