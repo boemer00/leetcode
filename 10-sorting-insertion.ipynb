{
 "cells": [
  {
   "cell_type": "markdown",
   "id": "3265b8e7",
   "metadata": {},
   "source": [
    "# Insertion"
   ]
  },
  {
   "cell_type": "code",
   "execution_count": 5,
   "id": "68e1616b",
   "metadata": {},
   "outputs": [],
   "source": [
    "# def insertionSort(arr):\n",
    "#     # Traverse through 1 to len(arr)\n",
    "#     for i in range(1, len(arr)):\n",
    "#         j = i - 1\n",
    "#         while j >= 0 and arr[j + 1] < arr[j]:\n",
    "#             # arr[j] and arr[j + 1] are out of order so swap them \n",
    "#             tmp = arr[j + 1]\n",
    "#             arr[j + 1] = arr[j]\n",
    "#             arr[j] = tmp\n",
    "#             j -= 1\n",
    "#     return arr\n",
    "\n",
    "def insertionSort(arr):\n",
    "    for i in range(1, len(arr)):\n",
    "        j = i - 1\n",
    "        while j >= 0 and arr[j + 1] < arr[j]:\n",
    "            arr[j], arr[j + 1] = arr[j + 1], arr[j]\n",
    "            j -= 1\n",
    "    return arr"
   ]
  },
  {
   "cell_type": "code",
   "execution_count": 6,
   "id": "84ee7e60",
   "metadata": {},
   "outputs": [
    {
     "data": {
      "text/plain": [
       "[1, 2, 3, 4, 4, 7, 9]"
      ]
     },
     "execution_count": 6,
     "metadata": {},
     "output_type": "execute_result"
    }
   ],
   "source": [
    "arr = [3,4,1,7,2,4,9]\n",
    "insertionSort(arr)"
   ]
  },
  {
   "cell_type": "code",
   "execution_count": null,
   "id": "7ceab9af",
   "metadata": {},
   "outputs": [],
   "source": []
  }
 ],
 "metadata": {
  "kernelspec": {
   "display_name": "Python 3 (ipykernel)",
   "language": "python",
   "name": "python3"
  },
  "language_info": {
   "codemirror_mode": {
    "name": "ipython",
    "version": 3
   },
   "file_extension": ".py",
   "mimetype": "text/x-python",
   "name": "python",
   "nbconvert_exporter": "python",
   "pygments_lexer": "ipython3",
   "version": "3.10.6"
  },
  "toc": {
   "base_numbering": 1,
   "nav_menu": {},
   "number_sections": true,
   "sideBar": true,
   "skip_h1_title": false,
   "title_cell": "Table of Contents",
   "title_sidebar": "Contents",
   "toc_cell": false,
   "toc_position": {},
   "toc_section_display": true,
   "toc_window_display": false
  }
 },
 "nbformat": 4,
 "nbformat_minor": 5
}
