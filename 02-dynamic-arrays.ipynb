{
 "cells": [
  {
   "cell_type": "markdown",
   "id": "e1246e72",
   "metadata": {},
   "source": [
    "# Dynamic Arrays"
   ]
  },
  {
   "cell_type": "markdown",
   "id": "22bd5b3f",
   "metadata": {},
   "source": [
    "## Concatenation of Array"
   ]
  },
  {
   "cell_type": "markdown",
   "id": "4b826794",
   "metadata": {},
   "source": [
    "Given an integer array nums of length n, you want to create an array ans of length 2n where ans[i] == nums[i] and ans[i + n] == nums[i] for 0 <= i < n (0-indexed).\n",
    "\n",
    "Specifically, ans is the concatenation of two nums arrays.\n",
    "\n",
    "Return the array ans.\n",
    "\n",
    "\n",
    "Example 1:\n",
    "\n",
    "- Input: nums = [1,2,1]\n",
    "- Output: [1,2,1,1,2,1]\n",
    "\n",
    "Explanation: \n",
    "\n",
    "The array ans is formed as follows:\n",
    "    - ans = [nums[0],nums[1],nums[2],nums[0],nums[1],nums[2]]\n",
    "    - ans = [1,2,1,1,2,1]\n",
    "\n",
    "Example 2:\n",
    "\n",
    "- Input: nums = [1,3,2,1]\n",
    "- Output: [1,3,2,1,1,3,2,1]\n",
    "\n",
    "Explanation: \n",
    "\n",
    "The array ans is formed as follows:\n",
    "    - ans = [nums[0],nums[1],nums[2],nums[3],nums[0],nums[1],nums[2],nums[3]]\n",
    "    - ans = [1,3,2,1,1,3,2,1]\n"
   ]
  },
  {
   "cell_type": "code",
   "execution_count": 4,
   "id": "f0d13c76",
   "metadata": {},
   "outputs": [],
   "source": [
    "class Solution:\n",
    "    def getConcatenation(self, nums):\n",
    "        output = []\n",
    "        for num in nums:\n",
    "            output.append(num)\n",
    "        return nums + output"
   ]
  },
  {
   "cell_type": "code",
   "execution_count": 13,
   "id": "1a931a3a",
   "metadata": {},
   "outputs": [],
   "source": [
    "class Solution:\n",
    "    def getConcatenation(self, nums):\n",
    "        return 2 * nums"
   ]
  },
  {
   "cell_type": "code",
   "execution_count": 14,
   "id": "ff6c83f7",
   "metadata": {},
   "outputs": [],
   "source": [
    "nums = [1,2,1]"
   ]
  },
  {
   "cell_type": "code",
   "execution_count": 15,
   "id": "8e89bf23",
   "metadata": {},
   "outputs": [
    {
     "data": {
      "text/plain": [
       "[1, 2, 1, 1, 2, 1]"
      ]
     },
     "execution_count": 15,
     "metadata": {},
     "output_type": "execute_result"
    }
   ],
   "source": [
    "solution = Solution()\n",
    "output = solution.getConcatenation(nums)\n",
    "output"
   ]
  },
  {
   "cell_type": "code",
   "execution_count": null,
   "id": "490e9654",
   "metadata": {},
   "outputs": [],
   "source": []
  },
  {
   "cell_type": "code",
   "execution_count": null,
   "id": "eed5d2e0",
   "metadata": {},
   "outputs": [],
   "source": []
  }
 ],
 "metadata": {
  "kernelspec": {
   "display_name": "Python 3 (ipykernel)",
   "language": "python",
   "name": "python3"
  },
  "language_info": {
   "codemirror_mode": {
    "name": "ipython",
    "version": 3
   },
   "file_extension": ".py",
   "mimetype": "text/x-python",
   "name": "python",
   "nbconvert_exporter": "python",
   "pygments_lexer": "ipython3",
   "version": "3.10.6"
  },
  "toc": {
   "base_numbering": 1,
   "nav_menu": {},
   "number_sections": true,
   "sideBar": true,
   "skip_h1_title": false,
   "title_cell": "Table of Contents",
   "title_sidebar": "Contents",
   "toc_cell": false,
   "toc_position": {},
   "toc_section_display": true,
   "toc_window_display": false
  }
 },
 "nbformat": 4,
 "nbformat_minor": 5
}
