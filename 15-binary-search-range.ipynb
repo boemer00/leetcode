{
 "cells": [
  {
   "cell_type": "markdown",
   "id": "3265b8e7",
   "metadata": {},
   "source": [
    "# Binary Search (Range)"
   ]
  },
  {
   "cell_type": "code",
   "execution_count": 35,
   "id": "68e1616b",
   "metadata": {},
   "outputs": [],
   "source": [
    "TARGET_NUMBER = 6\n",
    "\n",
    "def guess(num: int) -> int:\n",
    "    \"\"\"\n",
    "    Compares the input num with the TARGET_NUMBER.\n",
    "    \n",
    "    :param num: The number being guessed.\n",
    "    :return: -1 if num is higher than TARGET_NUMBER,\n",
    "             1 if num is lower than TARGET_NUMBER,\n",
    "             0 if num is equal to TARGET_NUMBER.\n",
    "    \"\"\"\n",
    "    if num > TARGET_NUMBER:\n",
    "        return -1  # The guess is too high\n",
    "    \n",
    "    elif num < TARGET_NUMBER:\n",
    "        return 1  # The guess is too low\n",
    "    \n",
    "    else:\n",
    "        return 0  # The guess is correct"
   ]
  },
  {
   "cell_type": "code",
   "execution_count": 36,
   "id": "87c516c5",
   "metadata": {},
   "outputs": [],
   "source": [
    "class Solution:\n",
    "    def guessNumber(self, n: int) -> int:\n",
    "        \"\"\"\n",
    "        Uses binary search to find the number that matches TARGET_NUMBER.\n",
    "        \n",
    "        :param n: The upper bound of the range [1, n] in which to guess.\n",
    "        :return: The number that matches TARGET_NUMBER.\n",
    "        \"\"\"\n",
    "        left, right = 0, n\n",
    "\n",
    "        while left <= right:\n",
    "            mid = left + ((right - left) // 2)\n",
    "            result = guess(mid)\n",
    "\n",
    "            if result < 0:\n",
    "                right = mid - 1  # Target is in the left half\n",
    "            elif result > 0:\n",
    "                left = mid + 1   # Target is in the right half\n",
    "            else:\n",
    "                return mid  # Found the correct number\n"
   ]
  },
  {
   "cell_type": "code",
   "execution_count": 37,
   "id": "b64cadc1",
   "metadata": {},
   "outputs": [
    {
     "name": "stdout",
     "output_type": "stream",
     "text": [
      "The guessed number is: 6\n"
     ]
    }
   ],
   "source": [
    "n = 10   # range from 1-10\n",
    "solution = Solution()\n",
    "result = solution.guessNumber(n)\n",
    "print(f\"The guessed number is: {result}\")"
   ]
  },
  {
   "cell_type": "code",
   "execution_count": null,
   "id": "2924b9b7",
   "metadata": {},
   "outputs": [],
   "source": []
  }
 ],
 "metadata": {
  "kernelspec": {
   "display_name": "Python 3 (ipykernel)",
   "language": "python",
   "name": "python3"
  },
  "language_info": {
   "codemirror_mode": {
    "name": "ipython",
    "version": 3
   },
   "file_extension": ".py",
   "mimetype": "text/x-python",
   "name": "python",
   "nbconvert_exporter": "python",
   "pygments_lexer": "ipython3",
   "version": "3.10.6"
  },
  "toc": {
   "base_numbering": 1,
   "nav_menu": {},
   "number_sections": true,
   "sideBar": true,
   "skip_h1_title": false,
   "title_cell": "Table of Contents",
   "title_sidebar": "Contents",
   "toc_cell": false,
   "toc_position": {},
   "toc_section_display": true,
   "toc_window_display": false
  }
 },
 "nbformat": 4,
 "nbformat_minor": 5
}
