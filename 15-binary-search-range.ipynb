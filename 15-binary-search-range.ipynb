{
 "cells": [
  {
   "cell_type": "markdown",
   "id": "3265b8e7",
   "metadata": {},
   "source": [
    "# Binary Search (Range)"
   ]
  },
  {
   "cell_type": "code",
   "execution_count": 35,
   "id": "68e1616b",
   "metadata": {},
   "outputs": [],
   "source": [
    "TARGET_NUMBER = 6\n",
    "\n",
    "def guess(num: int) -> int:\n",
    "    \"\"\"\n",
    "    Compares the input num with the TARGET_NUMBER.\n",
    "    \n",
    "    :param num: The number being guessed.\n",
    "    :return: -1 if num is higher than TARGET_NUMBER,\n",
    "             1 if num is lower than TARGET_NUMBER,\n",
    "             0 if num is equal to TARGET_NUMBER.\n",
    "    \"\"\"\n",
    "    if num > TARGET_NUMBER:\n",
    "        return -1  # The guess is too high\n",
    "    \n",
    "    elif num < TARGET_NUMBER:\n",
    "        return 1  # The guess is too low\n",
    "    \n",
    "    else:\n",
    "        return 0  # The guess is correct"
   ]
  },
  {
   "cell_type": "code",
   "execution_count": 36,
   "id": "87c516c5",
   "metadata": {},
   "outputs": [],
   "source": [
    "class Solution:\n",
    "    def guessNumber(self, n: int) -> int:\n",
    "        \"\"\"\n",
    "        Uses binary search to find the number that matches TARGET_NUMBER.\n",
    "        \n",
    "        :param n: The upper bound of the range [1, n] in which to guess.\n",
    "        :return: The number that matches TARGET_NUMBER.\n",
    "        \"\"\"\n",
    "        left, right = 0, n\n",
    "\n",
    "        while left <= right:\n",
    "            mid = left + ((right - left) // 2)\n",
    "            result = guess(mid)\n",
    "\n",
    "            if result < 0:\n",
    "                right = mid - 1  # Target is in the left half\n",
    "            elif result > 0:\n",
    "                left = mid + 1   # Target is in the right half\n",
    "            else:\n",
    "                return mid  # Found the correct number\n"
   ]
  },
  {
   "cell_type": "code",
   "execution_count": 37,
   "id": "b64cadc1",
   "metadata": {},
   "outputs": [
    {
     "name": "stdout",
     "output_type": "stream",
     "text": [
      "The guessed number is: 6\n"
     ]
    }
   ],
   "source": [
    "n = 10   # range from 1-10\n",
    "solution = Solution()\n",
    "result = solution.guessNumber(n)\n",
    "print(f\"The guessed number is: {result}\")"
   ]
  },
  {
   "cell_type": "markdown",
   "id": "fc25c1da",
   "metadata": {},
   "source": [
    "## First Bad Version (easy)"
   ]
  },
  {
   "cell_type": "code",
   "execution_count": 1,
   "id": "42a0c3cc",
   "metadata": {},
   "outputs": [],
   "source": [
    "def isBadVersion(version: int) -> bool:\n",
    "    first_bad_version = 4  # version 4 and above are bad\n",
    "    return version >= first_bad_version"
   ]
  },
  {
   "cell_type": "code",
   "execution_count": 3,
   "id": "404bc8f0",
   "metadata": {},
   "outputs": [],
   "source": [
    "def firstBadVersion(n: int) -> int:\n",
    "        left, right = 0, n\n",
    "        while left <= right:\n",
    "            mid = left + ((right - left) // 2)\n",
    "            if not isBadVersion(mid):\n",
    "                 left = mid + 1\n",
    "            elif isBadVersion(mid):\n",
    "                 right = mid - 1\n",
    "        return left"
   ]
  },
  {
   "cell_type": "code",
   "execution_count": 12,
   "id": "06254d0d",
   "metadata": {},
   "outputs": [],
   "source": [
    "def firstBadVersion(n: int) -> int:\n",
    "        left, right = 0, n\n",
    "        while left <= right:\n",
    "            mid = left + ((right - left) // 2)\n",
    "            if not isBadVersion(mid):\n",
    "                 left = mid + 1\n",
    "            else:\n",
    "                 right = mid - 1\n",
    "        return left"
   ]
  },
  {
   "cell_type": "code",
   "execution_count": 13,
   "id": "b479e5f9",
   "metadata": {},
   "outputs": [
    {
     "data": {
      "text/plain": [
       "4"
      ]
     },
     "execution_count": 13,
     "metadata": {},
     "output_type": "execute_result"
    }
   ],
   "source": [
    "firstBadVersion(5)"
   ]
  },
  {
   "cell_type": "code",
   "execution_count": 8,
   "id": "ffc06efc",
   "metadata": {},
   "outputs": [],
   "source": [
    "def firstBadVersion(n: int) -> int:\n",
    "    left, right = 0, n\n",
    "    \n",
    "    while left < right:\n",
    "        mid = left + ((right - left) // 2)\n",
    "        if isBadVersion(mid):\n",
    "            right = mid\n",
    "        else:\n",
    "            left = mid + 1\n",
    "    return left"
   ]
  },
  {
   "cell_type": "code",
   "execution_count": 9,
   "id": "c9d7e86a",
   "metadata": {},
   "outputs": [
    {
     "data": {
      "text/plain": [
       "4"
      ]
     },
     "execution_count": 9,
     "metadata": {},
     "output_type": "execute_result"
    }
   ],
   "source": [
    "firstBadVersion(5)"
   ]
  },
  {
   "cell_type": "markdown",
   "id": "1ca5d851",
   "metadata": {},
   "source": [
    "## Koko eats bananas (medium)"
   ]
  },
  {
   "cell_type": "code",
   "execution_count": 19,
   "id": "4581755d",
   "metadata": {},
   "outputs": [],
   "source": [
    "import math\n",
    "\n",
    "def minEatingSpeed(piles, h):\n",
    "        l, r = 1, max(piles)\n",
    "        res = r\n",
    "\n",
    "        while l <= r:\n",
    "            k = l + ((r - l) // 2)\n",
    "            hours = 0\n",
    "            for num in piles:\n",
    "                hours += math.ceil(num / k)\n",
    "                \n",
    "            if hours <= h:\n",
    "                res = min(res, k)\n",
    "                r = k - 1\n",
    "            else:\n",
    "                l = k + 1\n",
    "        return res "
   ]
  },
  {
   "cell_type": "code",
   "execution_count": 20,
   "id": "ddd3af6a",
   "metadata": {},
   "outputs": [
    {
     "data": {
      "text/plain": [
       "2"
      ]
     },
     "execution_count": 20,
     "metadata": {},
     "output_type": "execute_result"
    }
   ],
   "source": [
    "piles = [1,4,3,2] \n",
    "h = 9\n"
   ]
  },
  {
   "cell_type": "code",
   "execution_count": 21,
   "id": "cd583175",
   "metadata": {},
   "outputs": [
    {
     "data": {
      "text/plain": [
       "25"
      ]
     },
     "execution_count": 21,
     "metadata": {},
     "output_type": "execute_result"
    }
   ],
   "source": [
    "piles = [25,10,23,4]\n",
    "h = 4\n",
    "minEatingSpeed(piles, h)"
   ]
  },
  {
   "cell_type": "code",
   "execution_count": null,
   "id": "84ee7e60",
   "metadata": {},
   "outputs": [],
   "source": []
  }
 ],
 "metadata": {
  "kernelspec": {
   "display_name": "Python 3 (ipykernel)",
   "language": "python",
   "name": "python3"
  },
  "language_info": {
   "codemirror_mode": {
    "name": "ipython",
    "version": 3
   },
   "file_extension": ".py",
   "mimetype": "text/x-python",
   "name": "python",
   "nbconvert_exporter": "python",
   "pygments_lexer": "ipython3",
   "version": "3.10.6"
  },
  "toc": {
   "base_numbering": 1,
   "nav_menu": {},
   "number_sections": true,
   "sideBar": true,
   "skip_h1_title": false,
   "title_cell": "Table of Contents",
   "title_sidebar": "Contents",
   "toc_cell": false,
   "toc_position": {},
   "toc_section_display": true,
   "toc_window_display": false
  }
 },
 "nbformat": 4,
 "nbformat_minor": 5
}
