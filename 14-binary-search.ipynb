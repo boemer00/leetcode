{
 "cells": [
  {
   "cell_type": "markdown",
   "id": "075290db",
   "metadata": {},
   "source": [
    "# Binary Search"
   ]
  },
  {
   "cell_type": "markdown",
   "id": "1fdd3378",
   "metadata": {},
   "source": [
    "You are given an array of distinct integers `nums`, sorted in ascending order, and an integer target.\n",
    "\n",
    "Implement a function to search for target within `nums`. If it exists, then return its index, otherwise, return `-1`.\n",
    "\n",
    "Your solution must run in `O(logn)` time."
   ]
  },
  {
   "cell_type": "code",
   "execution_count": 15,
   "id": "09765d72",
   "metadata": {},
   "outputs": [],
   "source": [
    "# easy\n",
    "def search(nums, target):\n",
    "    l, r = 0, len(nums) -1\n",
    "\n",
    "    while l <= r:\n",
    "        mid = (l+r) // 2\n",
    "        if target ==  nums[mid]:\n",
    "            return mid\n",
    "        elif target > nums[mid]:\n",
    "            l = mid + 1\n",
    "        elif target < nums[mid]:\n",
    "            r = mid - 1  \n",
    "    return -1\n",
    "              "
   ]
  },
  {
   "cell_type": "code",
   "execution_count": 16,
   "id": "251f75e3",
   "metadata": {},
   "outputs": [],
   "source": [
    "nums = [-1,0,2,4,6,8]\n",
    "target = 4"
   ]
  },
  {
   "cell_type": "code",
   "execution_count": 17,
   "id": "3b22d3c5",
   "metadata": {},
   "outputs": [
    {
     "data": {
      "text/plain": [
       "3"
      ]
     },
     "execution_count": 17,
     "metadata": {},
     "output_type": "execute_result"
    }
   ],
   "source": [
    "search(nums, target)"
   ]
  },
  {
   "cell_type": "markdown",
   "id": "e8463ce8",
   "metadata": {},
   "source": [
    "## Search 2D Matrix"
   ]
  },
  {
   "cell_type": "markdown",
   "id": "d3beba6b",
   "metadata": {},
   "source": [
    "You are given an `m x n` 2-D integer array matrix and an integer target.\n",
    "\n",
    "Each row in matrix is sorted in non-decreasing order.\n",
    "The first integer of every row is greater than the last integer of the previous row.\n",
    "Return `true` if target exists within matrix or false otherwise.\n",
    "\n",
    "Can you write a solution that runs in `O(log(m * n))` time?"
   ]
  },
  {
   "cell_type": "code",
   "execution_count": 10,
   "id": "fb051d24",
   "metadata": {},
   "outputs": [],
   "source": [
    "# medium\n",
    "def searchMatrix(matrix, target):\n",
    "    row, col = len(matrix), len(matrix[0])\n",
    "    top, bot = 0, row - 1\n",
    "\n",
    "    while top <= bot:\n",
    "        row = top + ((bot - top) // 2)\n",
    "        if target > matrix[row][-1]:\n",
    "            top = row + 1\n",
    "        elif target < matrix[row][0]:\n",
    "            bot = row - 1\n",
    "        else:\n",
    "            break\n",
    "\n",
    "    if not (top <= bot):\n",
    "        return False\n",
    "        \n",
    "    row = (top + bot) // 2\n",
    "    left, right = 0, col -1\n",
    "\n",
    "    while left <= right:\n",
    "        mid = left + ((right - left) // 2)\n",
    "        if target > matrix[row][mid]:\n",
    "            left = mid + 1\n",
    "        elif target < matrix[row][mid]:\n",
    "            right = mid - 1\n",
    "        else:\n",
    "            return True\n",
    "    return False\n"
   ]
  },
  {
   "cell_type": "code",
   "execution_count": 11,
   "id": "e2a113f4",
   "metadata": {},
   "outputs": [],
   "source": [
    "matrix = [[1,2,4,8],[10,11,12,13],[14,20,30,40]]\n",
    "target = 10"
   ]
  },
  {
   "cell_type": "code",
   "execution_count": 13,
   "id": "c91d1b09",
   "metadata": {},
   "outputs": [
    {
     "data": {
      "text/plain": [
       "True"
      ]
     },
     "execution_count": 13,
     "metadata": {},
     "output_type": "execute_result"
    }
   ],
   "source": [
    "searchMatrix(matrix, target)"
   ]
  },
  {
   "cell_type": "code",
   "execution_count": null,
   "id": "0ab12734",
   "metadata": {},
   "outputs": [],
   "source": []
  }
 ],
 "metadata": {
  "kernelspec": {
   "display_name": "Python 3 (ipykernel)",
   "language": "python",
   "name": "python3"
  },
  "language_info": {
   "codemirror_mode": {
    "name": "ipython",
    "version": 3
   },
   "file_extension": ".py",
   "mimetype": "text/x-python",
   "name": "python",
   "nbconvert_exporter": "python",
   "pygments_lexer": "ipython3",
   "version": "3.10.6"
  },
  "toc": {
   "base_numbering": 1,
   "nav_menu": {},
   "number_sections": true,
   "sideBar": true,
   "skip_h1_title": false,
   "title_cell": "Table of Contents",
   "title_sidebar": "Contents",
   "toc_cell": false,
   "toc_position": {},
   "toc_section_display": true,
   "toc_window_display": false
  }
 },
 "nbformat": 4,
 "nbformat_minor": 5
}
